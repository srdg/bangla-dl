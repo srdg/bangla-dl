{
 "cells": [
  {
   "cell_type": "code",
   "execution_count": 1,
   "metadata": {},
   "outputs": [
    {
     "name": "stderr",
     "output_type": "stream",
     "text": [
      "/usr/local/lib/python3.5/dist-packages/h5py/__init__.py:36: FutureWarning: Conversion of the second argument of issubdtype from `float` to `np.floating` is deprecated. In future, it will be treated as `np.float64 == np.dtype(float).type`.\n",
      "  from ._conv import register_converters as _register_converters\n",
      "Using TensorFlow backend.\n"
     ]
    }
   ],
   "source": [
    "import numpy as np\n",
    "import matplotlib.pyplot as plt\n",
    "import keras\n",
    "import os\n",
    "from PIL import Image\n",
    "from keras.models import Sequential,load_model\n",
    "from keras.layers import Dense, Dropout, Flatten\n",
    "from keras.layers import Conv2D, MaxPooling2D\n",
    "from keras import backend as K\n",
    "from sklearn.model_selection import train_test_split\n",
    "\n",
    "%matplotlib inline"
   ]
  },
  {
   "cell_type": "code",
   "execution_count": 2,
   "metadata": {},
   "outputs": [
    {
     "name": "stdout",
     "output_type": "stream",
     "text": [
      "(12000, 32, 32, 1)\n",
      "0.4170046227149713\n",
      "0.2604762823875557\n"
     ]
    }
   ],
   "source": [
    "train_path = os.getcwd()+'/data/BasicFinalDatabase/Train'\n",
    "folders = []\n",
    "[folders.append('/'+i) for i in sorted(os.listdir(train_path))]\n",
    "label_map = ['অ','আ','ই ','ঈ','উ','ঊ','ঋ','এ','ঐ','ও','ঔ',\n",
    "             'ক','খ','গ','ঘ','ঙ',\n",
    "             'চ','ছ','জ','ঝ','ঞ', \n",
    "             'ট','ঠ','ড','ঢ','ণ',\n",
    "             'ত','থ','দ','ধ','ন',\n",
    "             'প','ফ','ব','ভ','ম',\n",
    "             'য','র','ল',\n",
    "             'শ','ষ','স','হ',\n",
    "             'য়','ড়','ঢ়','ৎ','ং','ঃ','ঁ']\n",
    "Temp = []\n",
    "for folder in folders:\n",
    "    \n",
    "    images = os.listdir((train_path+folder))\n",
    "    temp = []\n",
    "    for image in images:\n",
    "        img = Image.open(train_path+folder+'/'+image).convert('L')\n",
    "        img = img.resize((32,32))\n",
    "        arr = np.array(img)[..., np.newaxis]\n",
    "        #arr = np.true_divide(arr,[255.0],out=None)\n",
    "        arr = arr / 255.0\n",
    "        Temp.append(arr)\n",
    "X_orig = np.stack(Temp)\n",
    "print(X_orig.shape)\n",
    "print(np.mean(X_orig))\n",
    "print(np.std(X_orig))"
   ]
  },
  {
   "cell_type": "code",
   "execution_count": 3,
   "metadata": {},
   "outputs": [],
   "source": [
    "Y_orig = []\n",
    "[Y_orig.extend([bc]*240) for bc in range(len(label_map))]\n",
    "Y_orig = np.stack(Y_orig)\n",
    "Y_orig = keras.utils.to_categorical(Y_orig, len(np.unique(Y_orig)))\n",
    "#print(Y_orig)"
   ]
  },
  {
   "cell_type": "code",
   "execution_count": 4,
   "metadata": {},
   "outputs": [
    {
     "name": "stdout",
     "output_type": "stream",
     "text": [
      "(12000, 32, 32, 1) (12000, 50)\n"
     ]
    }
   ],
   "source": [
    "indices = np.arange(X_orig.shape[0])\n",
    "np.random.shuffle(indices)\n",
    "X_orig = X_orig[indices]\n",
    "Y_orig = Y_orig[indices]\n",
    "\n",
    "print(X_orig.shape,Y_orig.shape)"
   ]
  },
  {
   "cell_type": "code",
   "execution_count": 5,
   "metadata": {},
   "outputs": [
    {
     "name": "stdout",
     "output_type": "stream",
     "text": [
      "(3000, 32, 32, 1)\n"
     ]
    }
   ],
   "source": [
    "test_path = os.getcwd()+'/data/BasicFinalDatabase/Test'\n",
    "folders = []\n",
    "[folders.append('/'+i) for i in sorted(os.listdir(test_path))]\n",
    "\n",
    "Temp2 = []\n",
    "for folder in folders:\n",
    "    \n",
    "    images = os.listdir((test_path+folder))\n",
    "    for image in images:\n",
    "        img = Image.open(test_path+folder+'/'+image).convert('L')\n",
    "        img = img.resize((32,32))\n",
    "        arr = np.array(img)[..., np.newaxis]\n",
    "        #arr = np.true_divide(arr,[255.0],out=None)\n",
    "        arr = arr / 255.0\n",
    "        Temp2.append(arr)\n",
    "\n",
    "X_test = np.stack(Temp2)\n",
    "print(X_test.shape)"
   ]
  },
  {
   "cell_type": "code",
   "execution_count": 6,
   "metadata": {},
   "outputs": [
    {
     "name": "stdout",
     "output_type": "stream",
     "text": [
      "(3000, 50)\n"
     ]
    }
   ],
   "source": [
    "Y_test = []\n",
    "[Y_test.extend([bc]*60) for bc in range(len(label_map))]\n",
    "Y_test = np.stack(Y_test)\n",
    "Y_test = keras.utils.to_categorical(Y_test, len(np.unique(Y_test)))\n",
    "print(Y_test.shape)"
   ]
  },
  {
   "cell_type": "code",
   "execution_count": 7,
   "metadata": {},
   "outputs": [
    {
     "name": "stdout",
     "output_type": "stream",
     "text": [
      "(3000, 32, 32, 1) (3000, 50)\n"
     ]
    }
   ],
   "source": [
    "indices = np.arange(X_test.shape[0])\n",
    "np.random.shuffle(indices)\n",
    "X_test = X_test[indices]\n",
    "Y_test = Y_test[indices]\n",
    "\n",
    "print(X_test.shape,Y_test.shape)"
   ]
  },
  {
   "cell_type": "code",
   "execution_count": 8,
   "metadata": {},
   "outputs": [
    {
     "data": {
      "text/plain": [
       "((9600, 32, 32, 1), (9600, 50), (2400, 32, 32, 1), (2400, 50))"
      ]
     },
     "execution_count": 8,
     "metadata": {},
     "output_type": "execute_result"
    }
   ],
   "source": [
    "X_train,X_dev,Y_train,Y_dev = train_test_split(X_orig, Y_orig, test_size=0.2, shuffle=False)\n",
    "X_train.shape,Y_train.shape,X_dev.shape,Y_dev.shape"
   ]
  },
  {
   "cell_type": "code",
   "execution_count": 17,
   "metadata": {},
   "outputs": [
    {
     "name": "stdout",
     "output_type": "stream",
     "text": [
      "Train on 9600 samples, validate on 2400 samples\n",
      "Epoch 1/12\n",
      "9600/9600 [==============================] - 16s 2ms/step - loss: 2.8776 - acc: 0.2543 - val_loss: 1.9003 - val_acc: 0.4754\n",
      "Epoch 2/12\n",
      "9600/9600 [==============================] - 17s 2ms/step - loss: 1.4904 - acc: 0.5896 - val_loss: 1.3207 - val_acc: 0.6408\n",
      "Epoch 3/12\n",
      "9600/9600 [==============================] - 22s 2ms/step - loss: 1.0709 - acc: 0.7029 - val_loss: 1.0774 - val_acc: 0.7058\n",
      "Epoch 4/12\n",
      "9600/9600 [==============================] - 20s 2ms/step - loss: 0.8626 - acc: 0.7548 - val_loss: 0.9395 - val_acc: 0.7408\n",
      "Epoch 5/12\n",
      "9600/9600 [==============================] - 17s 2ms/step - loss: 0.7328 - acc: 0.7884 - val_loss: 0.8601 - val_acc: 0.7617\n",
      "Epoch 6/12\n",
      "9600/9600 [==============================] - 18s 2ms/step - loss: 0.6388 - acc: 0.8150 - val_loss: 0.8047 - val_acc: 0.7746\n",
      "Epoch 7/12\n",
      "9600/9600 [==============================] - 20s 2ms/step - loss: 0.5740 - acc: 0.8365 - val_loss: 0.7531 - val_acc: 0.7896\n",
      "Epoch 8/12\n",
      "9600/9600 [==============================] - 21s 2ms/step - loss: 0.5154 - acc: 0.8502 - val_loss: 0.7334 - val_acc: 0.7967\n",
      "Epoch 9/12\n",
      "9600/9600 [==============================] - 17s 2ms/step - loss: 0.4686 - acc: 0.8665 - val_loss: 0.6938 - val_acc: 0.8050\n",
      "Epoch 10/12\n",
      "9600/9600 [==============================] - 19s 2ms/step - loss: 0.4344 - acc: 0.8756 - val_loss: 0.6764 - val_acc: 0.8083\n",
      "Epoch 11/12\n",
      "9600/9600 [==============================] - 16s 2ms/step - loss: 0.3994 - acc: 0.8842 - val_loss: 0.6392 - val_acc: 0.8238\n",
      "Epoch 12/12\n",
      "9600/9600 [==============================] - 16s 2ms/step - loss: 0.3668 - acc: 0.8970 - val_loss: 0.6423 - val_acc: 0.8192\n",
      "<keras.callbacks.History object at 0x7fba29e28860>\n"
     ]
    }
   ],
   "source": [
    "model = Sequential()\n",
    "model.add(Conv2D(32, kernel_size=(3, 3),\n",
    "                 activation='relu',\n",
    "                 input_shape=(32,32,1)))\n",
    "model.add(MaxPooling2D(pool_size=(2, 2)))\n",
    "model.add(Conv2D(64, (3, 3), activation='relu'))\n",
    "model.add(MaxPooling2D(pool_size=(2, 2)))\n",
    "model.add(Dropout(0.2))\n",
    "model.add(Flatten())\n",
    "model.add(Dense(128, activation='relu'))\n",
    "model.add(Dense(50, activation='softmax'))\n",
    "\n",
    "model.compile(loss=keras.losses.categorical_crossentropy,\n",
    "              optimizer=keras.optimizers.Adagrad(),\n",
    "              metrics=['accuracy'])\n",
    "\n",
    "obj = model.fit(X_train, Y_train,\n",
    "          batch_size=120,\n",
    "          epochs=12,\n",
    "          verbose=1,\n",
    "          validation_data=(X_dev, Y_dev))\n",
    "print(obj)"
   ]
  },
  {
   "cell_type": "code",
   "execution_count": 18,
   "metadata": {},
   "outputs": [
    {
     "name": "stdout",
     "output_type": "stream",
     "text": [
      "3000/3000 [==============================] - 2s 607us/step\n",
      "Test loss: 0.6495909922917684\n",
      "Test accuracy: 0.8186666668256124\n"
     ]
    }
   ],
   "source": [
    "score = model.evaluate(X_test, Y_test, verbose=1)\n",
    "print('Test loss:', score[0])\n",
    "print('Test accuracy:', score[1])"
   ]
  },
  {
   "cell_type": "code",
   "execution_count": 19,
   "metadata": {},
   "outputs": [
    {
     "data": {
      "text/plain": [
       "[<matplotlib.lines.Line2D at 0x7fb9ea6f8828>,\n",
       " <matplotlib.lines.Line2D at 0x7fb9ea6f8978>]"
      ]
     },
     "execution_count": 19,
     "metadata": {},
     "output_type": "execute_result"
    },
    {
     "data": {
      "image/png": "[encoded data removed]",
      "text/plain": [
       "<Figure size 432x288 with 1 Axes>"
      ]
     },
     "metadata": {},
     "output_type": "display_data"
    }
   ],
   "source": [
    "plt.plot(range(12),obj.history['acc'],'r-',range(12),obj.history['val_acc'],'g-')"
   ]
  },
  {
   "cell_type": "code",
   "execution_count": 20,
   "metadata": {},
   "outputs": [
    {
     "data": {
      "text/plain": [
       "[<matplotlib.lines.Line2D at 0x7fb9ea659cc0>,\n",
       " <matplotlib.lines.Line2D at 0x7fb9ea659e10>]"
      ]
     },
     "execution_count": 20,
     "metadata": {},
     "output_type": "execute_result"
    },
    {
     "data": {
      "image/png": "[encoded data removed]",
      "text/plain": [
       "<Figure size 432x288 with 1 Axes>"
      ]
     },
     "metadata": {},
     "output_type": "display_data"
    }
   ],
   "source": [
    "plt.plot(range(12),obj.history['loss'],'r-',range(12),obj.history['val_loss'],'g-')"
   ]
  },
  {
   "cell_type": "code",
   "execution_count": 21,
   "metadata": {},
   "outputs": [],
   "source": [
    "model.save('bangla-dl.h5')"
   ]
  },
  {
   "cell_type": "code",
   "execution_count": null,
   "metadata": {},
   "outputs": [],
   "source": []
  }
 ],
 "metadata": {
  "kernelspec": {
   "display_name": "Python 3",
   "language": "python",
   "name": "python3"
  },
  "language_info": {
   "codemirror_mode": {
    "name": "ipython",
    "version": 3
   },
   "file_extension": ".py",
   "mimetype": "text/x-python",
   "name": "python",
   "nbconvert_exporter": "python",
   "pygments_lexer": "ipython3",
   "version": "3.5.2"
  }
 },
 "nbformat": 4,
 "nbformat_minor": 2
}
