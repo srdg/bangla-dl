{
 "cells": [
  {
   "cell_type": "code",
   "execution_count": 59,
   "metadata": {},
   "outputs": [],
   "source": [
    "import numpy as np\n",
    "import matplotlib.pyplot as plt\n",
    "import keras\n",
    "import os\n",
    "from PIL import Image\n",
    "from keras.models import Sequential,load_model\n",
    "from keras.layers import Dense, Dropout, Flatten\n",
    "from keras.layers import Conv2D, MaxPooling2D\n",
    "from keras import backend as K\n",
    "from sklearn.model_selection import train_test_split\n",
    "\n",
    "%matplotlib inline"
   ]
  },
  {
   "cell_type": "code",
   "execution_count": 60,
   "metadata": {},
   "outputs": [
    {
     "name": "stdout",
     "output_type": "stream",
     "text": [
      "(12000, 32, 32, 1)\n",
      "0.4170046227149713\n",
      "0.2604762823875557\n"
     ]
    }
   ],
   "source": [
    "train_path = os.getcwd()+'/data/BasicFinalDatabase/Train'\n",
    "folders = []\n",
    "[folders.append('/'+i) for i in sorted(os.listdir(train_path))]\n",
    "label_map = ['অ','আ','ই ','ঈ','উ','ঊ','ঋ','এ','ঐ','ও','ঔ',\n",
    "             'ক','খ','গ','ঘ','ঙ',\n",
    "             'চ','ছ','জ','ঝ','ঞ', \n",
    "             'ট','ঠ','ড','ঢ','ণ',\n",
    "             'ত','থ','দ','ধ','ন',\n",
    "             'প','ফ','ব','ভ','ম',\n",
    "             'য','র','ল',\n",
    "             'শ','ষ','স','হ',\n",
    "             'য়','ড়','ঢ়','ৎ','ং','ঃ','ঁ']\n",
    "Temp = []\n",
    "for folder in folders:\n",
    "    \n",
    "    images = os.listdir((train_path+folder))\n",
    "    temp = []\n",
    "    for image in images:\n",
    "        img = Image.open(train_path+folder+'/'+image).convert('L')\n",
    "        img = img.resize((32,32))\n",
    "        arr = np.array(img)[..., np.newaxis]\n",
    "        #arr = np.true_divide(arr,[255.0],out=None)\n",
    "        arr = arr / 255.0\n",
    "        Temp.append(arr)\n",
    "X_orig = np.stack(Temp)\n",
    "print(X_orig.shape)\n",
    "print(np.mean(X_orig))\n",
    "print(np.std(X_orig))"
   ]
  },
  {
   "cell_type": "code",
   "execution_count": 61,
   "metadata": {},
   "outputs": [],
   "source": [
    "Y_orig = []\n",
    "[Y_orig.extend([bc]*240) for bc in range(len(label_map))]\n",
    "Y_orig = np.stack(Y_orig)\n",
    "Y_orig = keras.utils.to_categorical(Y_orig, len(np.unique(Y_orig)))\n",
    "#print(Y_orig)"
   ]
  },
  {
   "cell_type": "code",
   "execution_count": 62,
   "metadata": {},
   "outputs": [
    {
     "name": "stdout",
     "output_type": "stream",
     "text": [
      "(12000, 32, 32, 1) (12000, 50)\n"
     ]
    }
   ],
   "source": [
    "indices = np.arange(X_orig.shape[0])\n",
    "np.random.shuffle(indices)\n",
    "X_orig = X_orig[indices]\n",
    "Y_orig = Y_orig[indices]\n",
    "\n",
    "print(X_orig.shape,Y_orig.shape)"
   ]
  },
  {
   "cell_type": "code",
   "execution_count": 63,
   "metadata": {},
   "outputs": [
    {
     "name": "stdout",
     "output_type": "stream",
     "text": [
      "(3000, 32, 32, 1)\n"
     ]
    }
   ],
   "source": [
    "test_path = os.getcwd()+'/data/BasicFinalDatabase/Test'\n",
    "folders = []\n",
    "[folders.append('/'+i) for i in sorted(os.listdir(test_path))]\n",
    "\n",
    "Temp2 = []\n",
    "for folder in folders:\n",
    "    \n",
    "    images = os.listdir((test_path+folder))\n",
    "    for image in images:\n",
    "        img = Image.open(test_path+folder+'/'+image).convert('L')\n",
    "        img = img.resize((32,32))\n",
    "        arr = np.array(img)[..., np.newaxis]\n",
    "        #arr = np.true_divide(arr,[255.0],out=None)\n",
    "        arr = arr / 255.0\n",
    "        Temp2.append(arr)\n",
    "\n",
    "X_test = np.stack(Temp2)\n",
    "print(X_test.shape)"
   ]
  },
  {
   "cell_type": "code",
   "execution_count": 64,
   "metadata": {},
   "outputs": [
    {
     "name": "stdout",
     "output_type": "stream",
     "text": [
      "(3000, 50)\n"
     ]
    }
   ],
   "source": [
    "Y_test = []\n",
    "[Y_test.extend([bc]*60) for bc in range(len(label_map))]\n",
    "Y_test = np.stack(Y_test)\n",
    "Y_test = keras.utils.to_categorical(Y_test, len(np.unique(Y_test)))\n",
    "print(Y_test.shape)"
   ]
  },
  {
   "cell_type": "code",
   "execution_count": 65,
   "metadata": {},
   "outputs": [
    {
     "name": "stdout",
     "output_type": "stream",
     "text": [
      "(3000, 32, 32, 1) (3000, 50)\n"
     ]
    }
   ],
   "source": [
    "indices = np.arange(X_test.shape[0])\n",
    "np.random.shuffle(indices)\n",
    "X_test = X_test[indices]\n",
    "Y_test = Y_test[indices]\n",
    "\n",
    "print(X_test.shape,Y_test.shape)"
   ]
  },
  {
   "cell_type": "code",
   "execution_count": 66,
   "metadata": {},
   "outputs": [
    {
     "data": {
      "text/plain": [
       "((9600, 32, 32, 1), (9600, 50), (2400, 32, 32, 1), (2400, 50))"
      ]
     },
     "execution_count": 66,
     "metadata": {},
     "output_type": "execute_result"
    }
   ],
   "source": [
    "X_train,X_dev,Y_train,Y_dev = train_test_split(X_orig, Y_orig, test_size=0.2, shuffle=False)\n",
    "X_train.shape,Y_train.shape,X_dev.shape,Y_dev.shape"
   ]
  },
  {
   "cell_type": "code",
   "execution_count": 67,
   "metadata": {},
   "outputs": [
    {
     "name": "stdout",
     "output_type": "stream",
     "text": [
      "Train on 9600 samples, validate on 2400 samples\n",
      "Epoch 1/12\n",
      "9600/9600 [==============================] - 18s 2ms/step - loss: 3.0645 - acc: 0.2128 - val_loss: 1.8066 - val_acc: 0.5354\n",
      "Epoch 2/12\n",
      "9600/9600 [==============================] - 16s 2ms/step - loss: 1.6711 - acc: 0.5281 - val_loss: 1.2800 - val_acc: 0.6425\n",
      "Epoch 3/12\n",
      "9600/9600 [==============================] - 16s 2ms/step - loss: 1.2931 - acc: 0.6265 - val_loss: 1.0044 - val_acc: 0.7242\n",
      "Epoch 4/12\n",
      "9600/9600 [==============================] - 17s 2ms/step - loss: 1.1087 - acc: 0.6723 - val_loss: 0.8973 - val_acc: 0.7533\n",
      "Epoch 5/12\n",
      "9600/9600 [==============================] - 20s 2ms/step - loss: 0.9691 - acc: 0.7158 - val_loss: 0.8086 - val_acc: 0.7675\n",
      "Epoch 6/12\n",
      "9600/9600 [==============================] - 16s 2ms/step - loss: 0.9099 - acc: 0.7285 - val_loss: 0.7710 - val_acc: 0.7783\n",
      "Epoch 7/12\n",
      "9600/9600 [==============================] - 18s 2ms/step - loss: 0.8201 - acc: 0.7502 - val_loss: 0.7420 - val_acc: 0.7871\n",
      "Epoch 8/12\n",
      "9600/9600 [==============================] - 17s 2ms/step - loss: 0.7695 - acc: 0.7686 - val_loss: 0.6988 - val_acc: 0.8058\n",
      "Epoch 9/12\n",
      "9600/9600 [==============================] - 18s 2ms/step - loss: 0.7327 - acc: 0.7775 - val_loss: 0.6620 - val_acc: 0.8083\n",
      "Epoch 10/12\n",
      "9600/9600 [==============================] - 17s 2ms/step - loss: 0.7083 - acc: 0.7816 - val_loss: 0.6603 - val_acc: 0.8046\n",
      "Epoch 11/12\n",
      "9600/9600 [==============================] - 17s 2ms/step - loss: 0.6595 - acc: 0.8019 - val_loss: 0.6420 - val_acc: 0.8133\n",
      "Epoch 12/12\n",
      "9600/9600 [==============================] - 17s 2ms/step - loss: 0.6538 - acc: 0.8009 - val_loss: 0.6280 - val_acc: 0.8242\n",
      "<keras.callbacks.History object at 0x7fc52f09ae80>\n"
     ]
    }
   ],
   "source": [
    "model = Sequential()\n",
    "model.add(Conv2D(32, kernel_size=(3, 3),\n",
    "                 activation='relu',\n",
    "                 input_shape=(32,32,1)))\n",
    "model.add(MaxPooling2D(pool_size=(2, 2)))\n",
    "model.add(Conv2D(64, (3, 3), activation='relu'))\n",
    "model.add(MaxPooling2D(pool_size=(2, 2)))\n",
    "model.add(Dropout(0.25))\n",
    "model.add(Flatten())\n",
    "model.add(Dense(128, activation='relu'))\n",
    "model.add(Dropout(0.25))\n",
    "model.add(Dense(50, activation='softmax'))\n",
    "\n",
    "model.compile(loss=keras.losses.categorical_crossentropy,\n",
    "              optimizer=keras.optimizers.Adagrad(),\n",
    "              metrics=['accuracy'])\n",
    "\n",
    "obj = model.fit(X_train, Y_train,\n",
    "          batch_size=120,\n",
    "          epochs=12,\n",
    "          verbose=1,\n",
    "          validation_data=(X_dev, Y_dev))\n",
    "print(obj)"
   ]
  },
  {
   "cell_type": "code",
   "execution_count": 68,
   "metadata": {},
   "outputs": [
    {
     "name": "stdout",
     "output_type": "stream",
     "text": [
      "3000/3000 [==============================] - 2s 593us/step\n",
      "Test loss: 0.628835546652476\n",
      "Test accuracy: 0.8159999998410543\n"
     ]
    }
   ],
   "source": [
    "score = model.evaluate(X_test, Y_test, verbose=1)\n",
    "print('Test loss:', score[0])\n",
    "print('Test accuracy:', score[1])"
   ]
  },
  {
   "cell_type": "code",
   "execution_count": 69,
   "metadata": {},
   "outputs": [
    {
     "data": {
      "text/plain": [
       "[<matplotlib.lines.Line2D at 0x7fc52d58e780>,\n",
       " <matplotlib.lines.Line2D at 0x7fc52d58e8d0>]"
      ]
     },
     "execution_count": 69,
     "metadata": {},
     "output_type": "execute_result"
    },
    {
     "data": {
      "image/png": "[encoded data removed]",
      "text/plain": [
       "<Figure size 432x288 with 1 Axes>"
      ]
     },
     "metadata": {},
     "output_type": "display_data"
    }
   ],
   "source": [
    "plt.plot(range(12),obj.history['acc'],'r-',range(12),obj.history['val_acc'],'g-')"
   ]
  },
  {
   "cell_type": "code",
   "execution_count": 70,
   "metadata": {},
   "outputs": [
    {
     "data": {
      "text/plain": [
       "[<matplotlib.lines.Line2D at 0x7fc52d5a2908>,\n",
       " <matplotlib.lines.Line2D at 0x7fc52d5b62b0>]"
      ]
     },
     "execution_count": 70,
     "metadata": {},
     "output_type": "execute_result"
    },
    {
     "data": {
      "image/png": "[encoded data removed]",
      "text/plain": [
       "<Figure size 432x288 with 1 Axes>"
      ]
     },
     "metadata": {},
     "output_type": "display_data"
    }
   ],
   "source": [
    "plt.plot(range(12),obj.history['loss'],'r-',range(12),obj.history['val_loss'],'g-')"
   ]
  },
  {
   "cell_type": "code",
   "execution_count": 71,
   "metadata": {},
   "outputs": [],
   "source": [
    "model.save('bangla-dl.h5')"
   ]
  },
  {
   "cell_type": "code",
   "execution_count": null,
   "metadata": {},
   "outputs": [],
   "source": []
  }
 ],
 "metadata": {
  "kernelspec": {
   "display_name": "Python 3",
   "language": "python",
   "name": "python3"
  },
  "language_info": {
   "codemirror_mode": {
    "name": "ipython",
    "version": 3
   },
   "file_extension": ".py",
   "mimetype": "text/x-python",
   "name": "python",
   "nbconvert_exporter": "python",
   "pygments_lexer": "ipython3",
   "version": "3.5.2"
  }
 },
 "nbformat": 4,
 "nbformat_minor": 2
}
