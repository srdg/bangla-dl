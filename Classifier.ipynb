{
 "cells": [
  {
   "cell_type": "code",
   "execution_count": 7,
   "metadata": {
    "scrolled": true
   },
   "outputs": [],
   "source": [
    "import cv2\n",
    "import numpy as np\n",
    "from collections import deque\n",
    "from keras.models import load_model\n",
    "from keras.preprocessing import image\n",
    "from PIL import Image\n",
    "import matplotlib.cm as cm"
   ]
  },
  {
   "cell_type": "code",
   "execution_count": 9,
   "metadata": {
    "scrolled": false
   },
   "outputs": [],
   "source": [
    "model = load_model('bangla-dl100.h5')\n",
    "cap = cv2.VideoCapture(0)\n",
    "label_map = {1:'aw',2:'aaa',3:'e',4:'eee',5:'u',6:'ooo',\n",
    "             7:'rhi', 8:'ey',9:'oi', 10:'o', 11:'ou',\n",
    "             12: 'kaw', 13:'khaw', 14:'gaw', 15:'ghaw', 16:'ng0',\n",
    "             17: 'ch0', 18:'chho', 19:'jaw', 20:'jhaw', 21:'N0',\n",
    "             22: 'taw', 23:'thaw', 24:'daw', 25:'dhaw', 26:'naw(1)',\n",
    "             27: 'ta(w)', 28: 'tha(w)', 29:'da(w)', 30:'dha(w)', 31:'naw(2)',\n",
    "             32: 'paw', 33:'faw', 34:'baw', 35:'bhaw', 36:'maw',\n",
    "            37:'jaw2',38:'raw',39:'law',40:'haw', 41:'saw1',42:'saw2',43:'saw3', \n",
    "             44:'ya',45:'ra',46:'rha',47 :'khando-taw', 48:'onussar',49:'bisargo', 50:'chandrabindu'}\n",
    "\n",
    "while(True):\n",
    "    # Capture frame-by-frame\n",
    "    ret, frame = cap.read()\n",
    "\n",
    "    # Our operations on the frame come here\n",
    "    gray = cv2.cvtColor(frame, cv2.COLOR_BGR2GRAY)\n",
    "    kernel = np.array([[-1,-1,-1], [-1,9,-1], [-1,-1,-1]])\n",
    "    im = cv2.filter2D(gray, -1, kernel)\n",
    "    thresh = 127\n",
    "    im_bw = cv2.threshold(im, thresh, 255, cv2.THRESH_BINARY)[1]\n",
    "    img = cv2.rectangle(im,(0,0),(128,128),(0,255,0),3)\n",
    "    _ = cv2.rectangle(gray,(0,0),(128,128),(0,255,0),3)\n",
    "    imh = img[0:128,0:128]\n",
    "    cv2.imshow('letter',imh)\n",
    "    #cv2.imshow('frame',im_bw)\n",
    "    \n",
    "    x = cv2.resize(imh, (32,32))\n",
    "    x = np.expand_dims(x, axis=0)\n",
    "    x = x / 255.0\n",
    "    images = np.vstack([x])\n",
    "    arr = np.array(images)[..., np.newaxis]\n",
    "    classes = model.predict_classes(arr, batch_size=10)\n",
    "    \n",
    "    font = cv2.FONT_HERSHEY_SIMPLEX\n",
    "    cv2.putText(gray,str(np.squeeze(classes)) + ':' + label_map[int(np.squeeze(classes))+1],(0,170), font, 1,(0,255,0),2,cv2.LINE_AA)\n",
    "    cv2.imshow('gray',gray)\n",
    "    if cv2.waitKey(1) & 0xFF == ord('q'):\n",
    "        break\n",
    "\n",
    "# When everything done, release the capture\n",
    "cap.release()\n",
    "cv2.destroyAllWindows()"
   ]
  },
  {
   "cell_type": "code",
   "execution_count": null,
   "metadata": {
    "scrolled": true
   },
   "outputs": [],
   "source": []
  },
  {
   "cell_type": "code",
   "execution_count": null,
   "metadata": {
    "scrolled": true
   },
   "outputs": [],
   "source": []
  }
 ],
 "metadata": {
  "kernelspec": {
   "display_name": "Python 3",
   "language": "python",
   "name": "python3"
  },
  "language_info": {
   "codemirror_mode": {
    "name": "ipython",
    "version": 3
   },
   "file_extension": ".py",
   "mimetype": "text/x-python",
   "name": "python",
   "nbconvert_exporter": "python",
   "pygments_lexer": "ipython3",
   "version": "3.5.2"
  }
 },
 "nbformat": 4,
 "nbformat_minor": 2
}
